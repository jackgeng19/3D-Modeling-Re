{
 "cells": [
  {
   "cell_type": "code",
   "execution_count": 2,
   "metadata": {},
   "outputs": [],
   "source": [
    "import joblib"
   ]
  },
  {
   "cell_type": "code",
   "execution_count": 4,
   "metadata": {},
   "outputs": [
    {
     "name": "stdout",
     "output_type": "stream",
     "text": [
      "dict_keys(['000000.jpg', '000004.jpg', '000008.jpg', '000012.jpg', '000016.jpg', '000020.jpg', '000024.jpg', '000028.jpg', '000032.jpg', '000034.jpg', '000035.jpg', '000036.jpg', '000037.jpg', '000038.jpg', '000039.jpg', '000040.jpg', '000041.jpg', '000042.jpg', '000043.jpg', '000044.jpg', '000045.jpg', '000046.jpg', '000047.jpg', '000048.jpg', '000049.jpg', '000050.jpg', '000051.jpg', '000052.jpg', '000053.jpg', '000054.jpg', '000055.jpg', '000056.jpg', '000057.jpg', '000058.jpg', '000059.jpg', '000060.jpg', '000061.jpg', '000062.jpg', '000063.jpg', '000064.jpg', '000068.jpg', '000072.jpg', '000076.jpg', '000080.jpg', '000084.jpg', '000088.jpg', '000092.jpg', '000096.jpg'])\n",
      "{'000000.jpg': {'gt_bbox': [[331.65, 105.21967275, 427.70000000000005, 154.62123949999997], [176.88361206499997, 165.154539545, 642.3420287700001, 189.17312920999998]], 'extra_data': {'gt_class': [], 'gt_track_id': [0, 1]}}, '000004.jpg': {'gt_bbox': [[329.7, 110.30052189999999, 418.59999999999997, 142.09506220000003], [162.82529906499997, 156.87402337999998, 638.5140747700001, 189.49023444]], 'extra_data': {'gt_class': [], 'gt_track_id': [0, 1]}}, '000008.jpg': {'gt_bbox': [[332.2, 105.35, 405.59999999999997, 144.3], [150.34999999999997, 147.27684024500002, 638.3000000000002, 191.29574580999997]], 'extra_data': {'gt_class': [], 'gt_track_id': [0, 1]}}, '000012.jpg': {'gt_bbox': [[325.95, 90.14999999999999, 399.09999999999997, 154.70000000000005], [140.5, 135.704699725, 637.0, 198.72512204999998]], 'extra_data': {'gt_class': [], 'gt_track_id': [0, 1]}}, '000016.jpg': {'gt_bbox': [[310.35, 80.39999999999999, 404.29999999999995, 161.20000000000005], [125.75, 119.27121279999999, 643.5, 221.82384639999998]], 'extra_data': {'gt_class': [], 'gt_track_id': [0, 1]}}, '000020.jpg': {'gt_bbox': [[303.79999999999995, 85.6, 400.4000000000001, 150.8], [113.0, 122.38980250500002, 650.0, 246.55935368999997]], 'extra_data': {'gt_class': [], 'gt_track_id': [0, 1]}}, '000024.jpg': {'gt_bbox': [[289.9, 94.5, 408.20000000000005, 143.0], [98.09999999999997, 124.39290842499997, 657.8000000000002, 272.55584265000005]], 'extra_data': {'gt_class': [], 'gt_track_id': [0, 1]}}, '000028.jpg': {'gt_bbox': [[281.50628968, 90.2, 402.94548943999996, 145.60000000000002], [89.89999999999998, 148.6235802, 668.2, 275.6863876]], 'extra_data': {'gt_class': [], 'gt_track_id': [0, 1]}}, '000032.jpg': {'gt_bbox': [[268.24567565999996, 88.3, 405.20414428000004, 153.39999999999998], [86.89999999999998, 152.49375308499998, 668.2, 286.00706173000003]], 'extra_data': {'gt_class': [], 'gt_track_id': [0, 1]}}, '000034.jpg': {'gt_bbox': [[260.96890258999997, 92.75, 407.60284422000007, 149.5], [88.09999999999997, 148.993553945, 657.8000000000002, 314.26815640999996]], 'extra_data': {'gt_class': [], 'gt_track_id': [0, 1]}}, '000035.jpg': {'gt_bbox': [[261.421896365, 95.05, 403.67689817, 146.89999999999998], [89.55000000000001, 150.157365435, 653.9000000000001, 312.38732603000005]], 'extra_data': {'gt_class': [], 'gt_track_id': [0, 1]}}, '000036.jpg': {'gt_bbox': [[259.29494019000003, 95.2, 404.77718501999993, 145.60000000000002], [89.84999999999997, 149.50599818999996, 651.3000000000002, 326.12365422000005]], 'extra_data': {'gt_class': [], 'gt_track_id': [0, 1]}}, '000037.jpg': {'gt_bbox': [[255.9, 96.8, 408.20000000000005, 140.39999999999998], [91.30000000000001, 153.01869195999998, 647.4000000000001, 317.06582648000006]], 'extra_data': {'gt_class': [], 'gt_track_id': [0, 1]}}, '000038.jpg': {'gt_bbox': [[254.6, 96.8, 410.79999999999995, 140.39999999999998], [89.30000000000001, 148.63827359500002, 647.4000000000001, 325.4089081100001]], 'extra_data': {'gt_class': [], 'gt_track_id': [0, 1]}}, '000039.jpg': {'gt_bbox': [[250.0, 98.1, 416.0, 137.8], [88.30000000000001, 146.09486235, 647.4000000000001, 324.89276430000007]], 'extra_data': {'gt_class': [], 'gt_track_id': [0, 1]}}, '000040.jpg': {'gt_bbox': [[244.1, 99.23495602499997, 423.79999999999995, 135.38657145000002], [88.44999999999999, 141.118416615, 646.0999999999999, 329.38787687]], 'extra_data': {'gt_class': [], 'gt_track_id': [0, 1]}}, '000041.jpg': {'gt_bbox': [[242.79999999999998, 97.25, 426.4000000000001, 136.5], [89.17500000000001, 139.84910506999998, 644.1500000000001, 326.3010116600001]], 'extra_data': {'gt_class': [], 'gt_track_id': [0, 1]}}, '000042.jpg': {'gt_bbox': [[239.35, 97.30719074499999, 430.29999999999995, 135.30491481], [89.32499999999999, 136.65165938499996, 642.8499999999999, 326.52421113]], 'extra_data': {'gt_class': [], 'gt_track_id': [0, 1]}}, '000043.jpg': {'gt_bbox': [[235.75, 96.95, 435.5, 139.10000000000002], [90.625, 133.63528055499998, 640.25, 335.58620458999997]], 'extra_data': {'gt_class': [], 'gt_track_id': [0, 1]}}, '000044.jpg': {'gt_bbox': [[238.04999999999998, 89.75, 432.9000000000001, 149.5], [93.5, 131.68749234500004, 637.0, 319.70109561000004]], 'extra_data': {'gt_class': [], 'gt_track_id': [0, 1]}}, '000045.jpg': {'gt_bbox': [[239.04999999999998, 86.3, 432.9000000000001, 153.39999999999998], [90.55000000000001, 132.014093005, 653.9000000000001, 304.63624269]], 'extra_data': {'gt_class': [], 'gt_track_id': [0, 1]}}, '000046.jpg': {'gt_bbox': [[238.9, 84.0, 434.20000000000005, 156.0], [90.625, 129.463472735, 653.25, 302.99781343000006]], 'extra_data': {'gt_class': [], 'gt_track_id': [0, 1]}}, '000047.jpg': {'gt_bbox': [[239.04999999999998, 81.95, 432.9000000000001, 165.10000000000002], [88.02499999999998, 128.01732631499996, 671.45, 289.93693547]], 'extra_data': {'gt_class': [], 'gt_track_id': [0, 1]}}, '000048.jpg': {'gt_bbox': [[239.04999999999998, 79.8, 432.9000000000001, 166.39999999999998], [86.39999999999998, 127.320503185, 681.2, 280.55073553]], 'extra_data': {'gt_class': [], 'gt_track_id': [0, 1]}}, '000049.jpg': {'gt_bbox': [[238.04999999999998, 77.5, 432.9000000000001, 169.0], [86.19999999999999, 127.07364658, 678.5999999999999, 279.69935604]], 'extra_data': {'gt_class': [], 'gt_track_id': [0, 1]}}, '000050.jpg': {'gt_bbox': [[234.6, 77.5, 436.79999999999995, 169.0], [86.05000000000001, 125.96833881, 679.9000000000001, 281.51405178000005]], 'extra_data': {'gt_class': [], 'gt_track_id': [0, 1]}}, '000051.jpg': {'gt_bbox': [[236.9, 78.64999999999999, 434.20000000000005, 167.70000000000005], [83.69999999999999, 131.26558455499998, 678.5999999999999, 233.13455659000005]], 'extra_data': {'gt_class': [], 'gt_track_id': [0, 1]}}, '000052.jpg': {'gt_bbox': [[234.6, 77.5, 436.79999999999995, 169.0], [82.14999999999998, 132.69073102499996, 674.7, 231.52352145]], 'extra_data': {'gt_class': [], 'gt_track_id': [0, 1]}}, '000053.jpg': {'gt_bbox': [[233.45, 76.35, 438.09999999999997, 170.3], [81.89999999999998, 133.46824797999997, 668.2, 230.64458924]], 'extra_data': {'gt_class': [], 'gt_track_id': [0, 1]}}, '000054.jpg': {'gt_bbox': [[232.29999999999998, 76.35, 439.4000000000001, 170.3], [81.5, 133.14974979, 663.0, 234.39593502000002]], 'extra_data': {'gt_class': [], 'gt_track_id': [0, 1]}}, '000055.jpg': {'gt_bbox': [[231.15, 76.2, 440.70000000000005, 171.60000000000002], [81.69999999999999, 134.78692703000002, 652.5999999999999, 231.41477813999995]], 'extra_data': {'gt_class': [], 'gt_track_id': [0, 1]}}, '000056.jpg': {'gt_bbox': [[231.15, 76.89999999999999, 440.70000000000005, 174.20000000000005], [81.30000000000001, 135.76596066999997, 647.4000000000001, 230.30804446000002]], 'extra_data': {'gt_class': [], 'gt_track_id': [0, 1]}}, '000057.jpg': {'gt_bbox': [[231.15, 76.45, 440.70000000000005, 178.10000000000002], [79.77499999999998, 137.66580506000003, 651.95, 228.16039428]], 'extra_data': {'gt_class': [], 'gt_track_id': [0, 1]}}, '000058.jpg': {'gt_bbox': [[231.15, 75.95, 440.70000000000005, 191.10000000000002], [80.19999999999999, 129.62000356500002, 639.5999999999999, 300.55999596999993]], 'extra_data': {'gt_class': [], 'gt_track_id': [0, 1]}}, '000059.jpg': {'gt_bbox': [[230.15, 77.1, 440.70000000000005, 189.79999999999998], [78.67500000000001, 127.36327668000001, 644.1500000000001, 322.32846984]], 'extra_data': {'gt_class': [], 'gt_track_id': [0, 1]}}, '000060.jpg': {'gt_bbox': [[230.15, 78.1, 440.70000000000005, 189.79999999999998], [75.92500000000001, 132.48414535499998, 650.6500000000001, 315.40922699]], 'extra_data': {'gt_class': [], 'gt_track_id': [0, 1]}}, '000061.jpg': {'gt_bbox': [[229.85, 78.46347193500002, 443.29999999999995, 192.78042302999995], [74.92500000000001, 135.85262526499997, 650.6500000000001, 309.34051057]], 'extra_data': {'gt_class': [], 'gt_track_id': [0, 1]}}, '000062.jpg': {'gt_bbox': [[229.25, 78.89999999999999, 448.5, 200.20000000000005], [73.625, 135.97203141000003, 653.25, 304.68379058000005]], 'extra_data': {'gt_class': [], 'gt_track_id': [0, 1]}}, '000063.jpg': {'gt_bbox': [[226.95, 82.89999999999999, 451.09999999999997, 200.20000000000005], [72.47499999999997, 139.66580586000003, 654.5500000000002, 299.37778468]], 'extra_data': {'gt_class': [], 'gt_track_id': [0, 1]}}, '000064.jpg': {'gt_bbox': [[224.5, 88.05, 455.0, 198.89999999999998], [72.05000000000001, 140.78915709999998, 653.9000000000001, 295.84703979999995]], 'extra_data': {'gt_class': [], 'gt_track_id': [0, 1]}}, '000068.jpg': {'gt_bbox': [[221.15, 93.05, 466.70000000000005, 198.89999999999998], [71.75, 140.350561545, 656.5, 313.29936521]], 'extra_data': {'gt_class': [], 'gt_track_id': [0, 1]}}, '000072.jpg': {'gt_bbox': [[226.9, 110.45, 460.20000000000005, 204.10000000000002], [65.84999999999997, 140.68245317999995, 703.3000000000002, 320.8372268400001]], 'extra_data': {'gt_class': [], 'gt_track_id': [0, 1]}}, '000076.jpg': {'gt_bbox': [[245.75, 110.45, 435.5, 204.10000000000002], [70.0, 143.19124527, 702.0, 301.04467926000007]], 'extra_data': {'gt_class': [], 'gt_track_id': [0, 1]}}, '000080.jpg': {'gt_bbox': [[249.6, 111.3, 436.79999999999995, 205.39999999999998], [75.44999999999999, 152.960782575, 698.0999999999999, 246.47911535000003]], 'extra_data': {'gt_class': [], 'gt_track_id': [0, 1]}}, '000084.jpg': {'gt_bbox': [[259.85, 114.45, 443.29999999999995, 204.10000000000002], [77.44999999999999, 163.74571535, 698.0999999999999, 176.63527829999998]], 'extra_data': {'gt_class': [], 'gt_track_id': [0, 1]}}, '000088.jpg': {'gt_bbox': [[262.45, 99.2, 438.09999999999997, 223.60000000000002], [80.44999999999999, 163.225, 698.0999999999999, 180.04999999999998]], 'extra_data': {'gt_class': [], 'gt_track_id': [0, 1]}}, '000092.jpg': {'gt_bbox': [[266.2, 101.05, 431.59999999999997, 224.89999999999998], [92.39999999999998, 158.875, 681.2, 191.75]], 'extra_data': {'gt_class': [], 'gt_track_id': [0, 1]}}, '000096.jpg': {'gt_bbox': [[270.95, 98.3, 425.09999999999997, 231.39999999999998], [105.80000000000001, 151.25, 660.4000000000001, 201.5]], 'extra_data': {'gt_class': [], 'gt_track_id': [0, 1]}}}\n"
     ]
    }
   ],
   "source": [
    "\n",
    "# Display the pkl format from the file author provided\n",
    "with open('./000342_mpii_test.pkl', 'rb') as f:\n",
    "    data = joblib.load(f)\n",
    "print(data.keys())  \n",
    "print(data)"
   ]
  },
  {
   "cell_type": "code",
   "execution_count": 4,
   "metadata": {},
   "outputs": [
    {
     "name": "stdout",
     "output_type": "stream",
     "text": [
      "dict_keys(['000000.jpg', '000001.jpg', '000002.jpg', '000003.jpg', '000004.jpg', '000005.jpg', '000006.jpg', '000007.jpg', '000008.jpg', '000009.jpg', '000010.jpg', '000011.jpg', '000012.jpg', '000013.jpg', '000014.jpg', '000015.jpg', '000016.jpg', '000017.jpg', '000018.jpg', '000019.jpg', '000020.jpg', '000021.jpg', '000022.jpg', '000023.jpg', '000024.jpg', '000025.jpg', '000026.jpg', '000027.jpg', '000028.jpg', '000029.jpg', '000030.jpg', '000031.jpg', '000032.jpg', '000033.jpg', '000034.jpg', '000035.jpg', '000036.jpg', '000037.jpg', '000038.jpg', '000039.jpg', '000040.jpg', '000041.jpg', '000042.jpg', '000043.jpg', '000044.jpg', '000045.jpg', '000046.jpg', '000047.jpg', '000048.jpg', '000049.jpg', '000050.jpg', '000051.jpg', '000052.jpg', '000053.jpg', '000054.jpg', '000055.jpg', '000056.jpg', '000057.jpg', '000058.jpg', '000059.jpg', '000060.jpg', '000061.jpg', '000062.jpg', '000063.jpg', '000064.jpg', '000065.jpg', '000066.jpg', '000067.jpg', '000068.jpg', '000069.jpg', '000070.jpg', '000071.jpg', '000072.jpg', '000073.jpg', '000074.jpg', '000075.jpg', '000076.jpg', '000077.jpg', '000078.jpg', '000079.jpg'])\n"
     ]
    }
   ],
   "source": [
    "# Display our pkl format for comparison\n",
    "with open('./bbox_data.pkl', 'rb') as f:\n",
    "    data = joblib.load(f)\n",
    "# print(data)  \n",
    "print(data.keys())"
   ]
  },
  {
   "cell_type": "code",
   "execution_count": 7,
   "metadata": {},
   "outputs": [],
   "source": [
    "# Conversion starts from here   \n",
    "import numpy as np\n",
    "import os\n",
    "import joblib \n",
    "\n",
    "base_path = ''"
   ]
  },
  {
   "cell_type": "code",
   "execution_count": 9,
   "metadata": {},
   "outputs": [],
   "source": [
    "def process_line(line, scale_factor=1.075):\n",
    "    \"\"\"Process a single line of the text file and return relevant data.\"\"\"\n",
    "    parts = line.strip().split(',')\n",
    "    frame_id = int(parts[0])\n",
    "    track_id = int(parts[1]) - 1  # Adjust if necessary\n",
    "    x1, y1, width, height = map(float, parts[2:6])\n",
    "    \n",
    "    # Apply scaling factor to width and height\n",
    "    scaled_width = width * scale_factor\n",
    "    scaled_height = height * scale_factor\n",
    "    \n",
    "    # Adjust x1, y1 to maintain the center of the bbox\n",
    "    x1 = x1 - (scaled_width - width) / 2\n",
    "    y1 = y1 - (scaled_height - height) / 2\n",
    "    \n",
    "    # Create the bbox in the format x1, y1, width, height\n",
    "    bbox = np.array([x1, y1, scaled_width, scaled_height], dtype=np.float32)\n",
    "    \n",
    "    return frame_id, track_id, bbox\n",
    "\n",
    "def read_file(filename):\n",
    "    \"\"\"Read the file and return the data organized by frame, with gt_track_id handled correctly.\"\"\"\n",
    "    data = {}\n",
    "    with open(filename, 'r') as f:\n",
    "        for line in f:\n",
    "            frame_id, track_id, bbox = process_line(line)\n",
    "            frame_name = os.path.join(base_path, f'{frame_id:06}.jpg')\n",
    "            if frame_name not in data:\n",
    "                data[frame_name] = {\"gt_bbox\": [], \"extra_data\": {\"gt_class\": [], \"gt_track_id\": []}}\n",
    "            data[frame_name][\"gt_bbox\"].append(bbox.tolist())  # Convert bbox to list for JSON-like output\n",
    "            if track_id not in data[frame_name][\"extra_data\"][\"gt_track_id\"]:\n",
    "                data[frame_name][\"extra_data\"][\"gt_track_id\"].append(track_id)\n",
    "    return data\n",
    "\n",
    "def save_data(data, output_filename):\n",
    "    \"\"\"Save the processed data to a pickle file using joblib.\"\"\"\n",
    "    joblib.dump(data, output_filename)"
   ]
  },
  {
   "cell_type": "code",
   "execution_count": 10,
   "metadata": {},
   "outputs": [
    {
     "name": "stdout",
     "output_type": "stream",
     "text": [
      "Data from /Users/jackgengqc/Desktop/track_vis/2024_02_27_11_41_28.txt has been processed and saved to bbox_data.pkl using joblib.\n"
     ]
    }
   ],
   "source": [
    "input_filename = '/Users/jackgengqc/Desktop/track_vis/2024_02_27_11_41_28.txt'\n",
    "output_filename = 'bbox_data.pkl'\n",
    "\n",
    "data = read_file(input_filename)\n",
    "# convert_data_to_numpy(data)  # Call this only if you want numpy arrays instead of lists.\n",
    "save_data(data, output_filename)\n",
    "\n",
    "print(f'Data from {input_filename} has been processed and saved to {output_filename} using joblib.')\n"
   ]
  }
 ],
 "metadata": {
  "kernelspec": {
   "display_name": "Python 3",
   "language": "python",
   "name": "python3"
  },
  "language_info": {
   "codemirror_mode": {
    "name": "ipython",
    "version": 3
   },
   "file_extension": ".py",
   "mimetype": "text/x-python",
   "name": "python",
   "nbconvert_exporter": "python",
   "pygments_lexer": "ipython3",
   "version": "3.10.6"
  }
 },
 "nbformat": 4,
 "nbformat_minor": 2
}
