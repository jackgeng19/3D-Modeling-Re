{
 "cells": [
  {
   "cell_type": "code",
   "execution_count": 1,
   "metadata": {},
   "outputs": [],
   "source": [
    "import os\n",
    "import numpy as np\n",
    "import pickle"
   ]
  },
  {
   "cell_type": "code",
   "execution_count": null,
   "metadata": {},
   "outputs": [],
   "source": [
    "text_file_path = 'path_to_your_text_file.txt'\n",
    "video_base_path = 'base_path_to_your_images'\n",
    "output_pkl_path = 'output_file_path.pkl'"
   ]
  },
  {
   "cell_type": "code",
   "execution_count": null,
   "metadata": {},
   "outputs": [],
   "source": [
    "gt_data = {}"
   ]
  },
  {
   "cell_type": "code",
   "execution_count": null,
   "metadata": {},
   "outputs": [],
   "source": [
    "with open(text_file_path, 'r') as file:\n",
    "    for line in file:\n",
    "        # Example line format: frame_id x1,y1,x2,y2 class track_id\n",
    "        # Adjust parsing logic based on your actual file format\n",
    "        parts = line.strip().split()\n",
    "        frame_id, bbox_str, gt_class, gt_track_id = parts[0], parts[1], int(parts[2]), int(parts[3])\n",
    "        \n",
    "        # Convert bbox_str to np.ndarray\n",
    "        bbox = np.array([float(n) for n in bbox_str.split(',')]).reshape(-1, 4)\n",
    "        \n",
    "        # Assuming each line represents a single bounding box,\n",
    "        # If frame_id already exists, append, else create.\n",
    "        if frame_id in gt_data:\n",
    "            gt_data[frame_id]['gt_bbox'] = np.vstack([gt_data[frame_id]['gt_bbox'], bbox])\n",
    "            gt_data[frame_id]['extra_data']['gt_class'].append(gt_class)\n",
    "            gt_data[frame_id]['extra_data']['gt_track_id'].append(gt_track_id)\n",
    "        else:\n",
    "            gt_data[frame_id] = {\n",
    "                \"gt_bbox\": bbox,\n",
    "                \"extra_data\": {\n",
    "                    \"gt_class\": [gt_class],\n",
    "                    \"gt_track_id\": [gt_track_id],\n",
    "                }\n",
    "            }\n"
   ]
  },
  {
   "cell_type": "code",
   "execution_count": null,
   "metadata": {},
   "outputs": [],
   "source": [
    "# Convert relative frame IDs to absolute paths (if necessary)\n",
    "for frame_id in gt_data:\n",
    "    frame_path = os.path.join(video_base_path, frame_id)\n",
    "    # Update frame_id with frame_path if needed\n",
    "    # This step depends on how PHALP expects the frame ID or path to be structured"
   ]
  },
  {
   "cell_type": "code",
   "execution_count": null,
   "metadata": {},
   "outputs": [],
   "source": [
    "with open(output_pkl_path, 'wb') as output_file:\n",
    "    pickle.dump(gt_data, output_file)\n",
    "\n",
    "print(f\"Data saved to {output_pkl_path}\")"
   ]
  }
 ],
 "metadata": {
  "kernelspec": {
   "display_name": "Python 3",
   "language": "python",
   "name": "python3"
  },
  "language_info": {
   "codemirror_mode": {
    "name": "ipython",
    "version": 3
   },
   "file_extension": ".py",
   "mimetype": "text/x-python",
   "name": "python",
   "nbconvert_exporter": "python",
   "pygments_lexer": "ipython3",
   "version": "3.10.6"
  }
 },
 "nbformat": 4,
 "nbformat_minor": 2
}
