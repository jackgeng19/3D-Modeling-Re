{
 "cells": [
  {
   "cell_type": "code",
   "execution_count": 45,
   "metadata": {},
   "outputs": [],
   "source": [
    "from IPython.display import Image, HTML"
   ]
  },
  {
   "cell_type": "code",
   "execution_count": 46,
   "metadata": {},
   "outputs": [],
   "source": [
    "html_str1 = f\"\"\"\n",
    "<table>\n",
    "<tr>\n",
    "<td><img src='./src/LAL_SAS_P1.gif'></td>\n",
    "<td><img src='./src/LAL_SAS_V1.gif' style='width:800px;'></td>\n",
    "</tr>\n",
    "</table>\n",
    "\"\"\"\n",
    "\n",
    "html_str2 = f\"\"\"\n",
    "<table>\n",
    "<tr>\n",
    "<td><img src='./src/LAL_SAS_P2.gif'></td>\n",
    "<td><img src='./src/LAL_SAS_V2.gif'></td>\n",
    "</tr>\n",
    "</table>\n",
    "\"\"\"\n",
    "\n",
    "html_str3 = f\"\"\"\n",
    "<table>\n",
    "<tr>\n",
    "<td><img src='./src/LAL_SAS_P3.gif'></td>\n",
    "<td><img src='./src/LAL_SAS_V3.gif'></td>\n",
    "</tr>\n",
    "</table>\n",
    "\"\"\"\n",
    "\n",
    "html_str4 = f\"\"\"\n",
    "<table>\n",
    "<tr>\n",
    "<td><img src='./src/DET_DEN_P1.gif'></td>\n",
    "<td><img src='./src/DET_DEN_V1.gif'></td>\n",
    "</tr>\n",
    "</table>\n",
    "\"\"\"\n",
    "\n",
    "html_str5 = f\"\"\"\n",
    "<table>\n",
    "<tr>\n",
    "<td><img src='./src/DET_DEN_P2.gif'></td>\n",
    "<td><img src='./src/DET_DEN_V2.gif'></td>\n",
    "</tr>\n",
    "</table>\n",
    "\"\"\""
   ]
  },
  {
   "cell_type": "code",
   "execution_count": 47,
   "metadata": {},
   "outputs": [
    {
     "data": {
      "text/html": [
       "\n",
       "<table>\n",
       "<tr>\n",
       "<td><img src='./src/LAL_SAS_P1.gif'></td>\n",
       "<td><img src='./src/LAL_SAS_V1.gif' style='width:800px;'></td>\n",
       "</tr>\n",
       "</table>\n"
      ],
      "text/plain": [
       "<IPython.core.display.HTML object>"
      ]
     },
     "metadata": {},
     "output_type": "display_data"
    }
   ],
   "source": [
    "display(HTML(html_str1))"
   ]
  },
  {
   "cell_type": "code",
   "execution_count": 48,
   "metadata": {},
   "outputs": [
    {
     "data": {
      "text/html": [
       "\n",
       "<table>\n",
       "<tr>\n",
       "<td><img src='./src/LAL_SAS_P2.gif'></td>\n",
       "<td><img src='./src/LAL_SAS_V2.gif'></td>\n",
       "</tr>\n",
       "</table>\n"
      ],
      "text/plain": [
       "<IPython.core.display.HTML object>"
      ]
     },
     "metadata": {},
     "output_type": "display_data"
    }
   ],
   "source": [
    "display(HTML(html_str2))"
   ]
  },
  {
   "cell_type": "code",
   "execution_count": 49,
   "metadata": {},
   "outputs": [
    {
     "data": {
      "text/html": [
       "\n",
       "<table>\n",
       "<tr>\n",
       "<td><img src='./src/LAL_SAS_P3.gif'></td>\n",
       "<td><img src='./src/LAL_SAS_V3.gif'></td>\n",
       "</tr>\n",
       "</table>\n"
      ],
      "text/plain": [
       "<IPython.core.display.HTML object>"
      ]
     },
     "metadata": {},
     "output_type": "display_data"
    }
   ],
   "source": [
    "display(HTML(html_str3))"
   ]
  },
  {
   "cell_type": "code",
   "execution_count": 50,
   "metadata": {},
   "outputs": [
    {
     "data": {
      "text/html": [
       "\n",
       "<table>\n",
       "<tr>\n",
       "<td><img src='./src/DET_DEN_P1.gif'></td>\n",
       "<td><img src='./src/DET_DEN_V1.gif'></td>\n",
       "</tr>\n",
       "</table>\n"
      ],
      "text/plain": [
       "<IPython.core.display.HTML object>"
      ]
     },
     "metadata": {},
     "output_type": "display_data"
    }
   ],
   "source": [
    "display(HTML(html_str4))"
   ]
  },
  {
   "cell_type": "code",
   "execution_count": 51,
   "metadata": {},
   "outputs": [
    {
     "data": {
      "text/html": [
       "\n",
       "<table>\n",
       "<tr>\n",
       "<td><img src='./src/DET_DEN_P2.gif'></td>\n",
       "<td><img src='./src/DET_DEN_V2.gif'></td>\n",
       "</tr>\n",
       "</table>\n"
      ],
      "text/plain": [
       "<IPython.core.display.HTML object>"
      ]
     },
     "metadata": {},
     "output_type": "display_data"
    }
   ],
   "source": [
    "display(HTML(html_str5))"
   ]
  }
 ],
 "metadata": {
  "kernelspec": {
   "display_name": "Python 3",
   "language": "python",
   "name": "python3"
  },
  "language_info": {
   "codemirror_mode": {
    "name": "ipython",
    "version": 3
   },
   "file_extension": ".py",
   "mimetype": "text/x-python",
   "name": "python",
   "nbconvert_exporter": "python",
   "pygments_lexer": "ipython3",
   "version": "3.10.6"
  },
  "orig_nbformat": 4
 },
 "nbformat": 4,
 "nbformat_minor": 2
}
