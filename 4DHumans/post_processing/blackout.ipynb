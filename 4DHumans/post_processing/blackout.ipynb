{
 "cells": [
  {
   "cell_type": "code",
   "execution_count": 6,
   "metadata": {},
   "outputs": [],
   "source": [
    "import cv2\n",
    "import joblib\n",
    "import numpy as np"
   ]
  },
  {
   "cell_type": "code",
   "execution_count": 12,
   "metadata": {},
   "outputs": [],
   "source": [
    "def load_bounding_boxes(pickle_file):\n",
    "    return joblib.load(pickle_file)\n",
    "\n",
    "def apply_mask(frame, bboxes):\n",
    "    mask = np.zeros_like(frame)\n",
    "    for bbox in bboxes:\n",
    "        x, y, w, h = map(int, bbox)\n",
    "        mask[y:y+h, x:x+w] = frame[y:y+h, x:x+w]\n",
    "    return mask\n",
    "\n",
    "def process_video(video_path, bbox_data, output_path):\n",
    "    cap = cv2.VideoCapture(video_path)\n",
    "    fourcc = cv2.VideoWriter_fourcc(*'XVID')\n",
    "    out = cv2.VideoWriter(output_path, fourcc, 20.0, (int(cap.get(3)), int(cap.get(4))))\n",
    "\n",
    "    frame_id = 0\n",
    "    while cap.isOpened():\n",
    "        ret, frame = cap.read()\n",
    "        if not ret:\n",
    "            break\n",
    "        \n",
    "        frame_key = f'{frame_id:06d}.jpg'\n",
    "        if frame_key in bbox_data:\n",
    "            frame = apply_mask(frame, bbox_data[frame_key]['gt_bbox'])\n",
    "        \n",
    "        out.write(frame)\n",
    "        frame_id += 1\n",
    "\n",
    "    cap.release()\n",
    "    out.release()"
   ]
  },
  {
   "cell_type": "code",
   "execution_count": 21,
   "metadata": {},
   "outputs": [],
   "source": [
    "bbox_data = load_bounding_boxes('../../PHALP/bbox_data.pkl')\n",
    "process_video('./noBbox.mp4', bbox_data, 'masked_output_video.avi')"
   ]
  },
  {
   "cell_type": "code",
   "execution_count": 24,
   "metadata": {},
   "outputs": [
    {
     "name": "stdout",
     "output_type": "stream",
     "text": [
      "Combined video saved to combined_video.avi\n"
     ]
    }
   ],
   "source": [
    "import cv2\n",
    "\n",
    "def combine_videos_horizontally(video_path1, video_path2, output_path):\n",
    "    # Open both video files\n",
    "    cap1 = cv2.VideoCapture(video_path1)\n",
    "    cap2 = cv2.VideoCapture(video_path2)\n",
    "\n",
    "    if not cap1.isOpened() or not cap2.isOpened():\n",
    "        print(\"Error opening one of the video files\")\n",
    "        return\n",
    "\n",
    "    # Get properties of the videos\n",
    "    width1 = int(cap1.get(cv2.CAP_PROP_FRAME_WIDTH))\n",
    "    height1 = int(cap1.get(cv2.CAP_PROP_FRAME_HEIGHT))\n",
    "    fps1 = cap1.get(cv2.CAP_PROP_FPS)\n",
    "\n",
    "    width2 = int(cap2.get(cv2.CAP_PROP_FRAME_WIDTH))\n",
    "    height2 = int(cap2.get(cv2.CAP_PROP_FRAME_HEIGHT))\n",
    "    fps2 = cap2.get(cv2.CAP_PROP_FPS)\n",
    "\n",
    "    # Determine output video properties\n",
    "    output_fps = min(fps1, fps2)\n",
    "    output_height = max(height1, height2)\n",
    "    aspect_ratio1 = width1 / height1\n",
    "    aspect_ratio2 = width2 / height2\n",
    "\n",
    "    # Calculate new widths while preserving aspect ratio\n",
    "    new_width1 = int(output_height * aspect_ratio1)\n",
    "    new_width2 = int(output_height * aspect_ratio2)\n",
    "    output_width = new_width1 + new_width2\n",
    "\n",
    "    # Create VideoWriter object with higher bitrate\n",
    "    fourcc = cv2.VideoWriter_fourcc(*'XVID')\n",
    "    out = cv2.VideoWriter(output_path, fourcc, output_fps, (output_width, output_height), True)\n",
    "\n",
    "    while True:\n",
    "        ret1, frame1 = cap1.read()\n",
    "        ret2, frame2 = cap2.read()\n",
    "\n",
    "        # Check if there's a frame to read from both videos\n",
    "        if not ret1 or not ret2:\n",
    "            break\n",
    "\n",
    "        # Resize frames to preserve aspect ratio\n",
    "        frame1 = cv2.resize(frame1, (new_width1, output_height))\n",
    "        frame2 = cv2.resize(frame2, (new_width2, output_height))\n",
    "\n",
    "        # Combine the frames horizontally\n",
    "        combined_frame = cv2.hconcat([frame1, frame2])\n",
    "\n",
    "        # Write the combined frame to the output video\n",
    "        out.write(combined_frame)\n",
    "\n",
    "    # Release resources\n",
    "    cap1.release()\n",
    "    cap2.release()\n",
    "    out.release()\n",
    "    print(f\"Combined video saved to {output_path}\")\n",
    "\n",
    "\n",
    "# Example usage\n",
    "video_path1 = '/Users/jackgengqc/Downloads/4DHumans.ipynb video.mp4'\n",
    "video_path2 = '/Users/jackgengqc/Downloads/blackout.mp4'\n",
    "output_video = 'combined_video.avi'\n",
    "combine_videos_horizontally(video_path1, video_path2, output_video)\n"
   ]
  }
 ],
 "metadata": {
  "kernelspec": {
   "display_name": "Python 3",
   "language": "python",
   "name": "python3"
  },
  "language_info": {
   "codemirror_mode": {
    "name": "ipython",
    "version": 3
   },
   "file_extension": ".py",
   "mimetype": "text/x-python",
   "name": "python",
   "nbconvert_exporter": "python",
   "pygments_lexer": "ipython3",
   "version": "3.10.6"
  }
 },
 "nbformat": 4,
 "nbformat_minor": 2
}
